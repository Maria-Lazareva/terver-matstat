{
  "nbformat": 4,
  "nbformat_minor": 0,
  "metadata": {
    "colab": {
      "provenance": [],
      "authorship_tag": "ABX9TyOTy71JK1D68WJiGVlfJzm9",
      "include_colab_link": true
    },
    "kernelspec": {
      "name": "python3",
      "display_name": "Python 3"
    },
    "language_info": {
      "name": "python"
    }
  },
  "cells": [
    {
      "cell_type": "markdown",
      "metadata": {
        "id": "view-in-github",
        "colab_type": "text"
      },
      "source": [
        "<a href=\"https://colab.research.google.com/github/Maria-Lazareva/terver-matstat/blob/main/HW_terver.ipynb\" target=\"_parent\"><img src=\"https://colab.research.google.com/assets/colab-badge.svg\" alt=\"Open In Colab\"/></a>"
      ]
    },
    {
      "cell_type": "markdown",
      "source": [
        "Провести дисперсионный анализ для определения того, есть ли различия среднего роста среди взрослых футболистов, хоккеистов и штангистов. Даны значения роста в трех группах случайно выбранных спортсменов:\n",
        "Футболисты: 173, 175, 180, 178, 177, 185, 183, 182.\n",
        "Хоккеисты: 177, 179, 180, 188, 177, 172, 171, 184, 180.\n",
        "Штангисты: 172, 173, 169, 177, 166, 180, 178, 177, 172, 166, 170."
      ],
      "metadata": {
        "id": "dRQBOsfzP08M"
      }
    },
    {
      "cell_type": "code",
      "source": [
        "import numpy as np\n",
        "import pandas as pd\n",
        "from scipy import stats"
      ],
      "metadata": {
        "id": "sPVLwiJYP9fm"
      },
      "execution_count": null,
      "outputs": []
    },
    {
      "cell_type": "markdown",
      "source": [
        "Сформулируем нулевую гипотезу:\n",
        "H0: m1=m2=m3 т.е. средний рост спортсмена не зависит от вида спорта, которым он занимается(из представленных трех).\n",
        "Альтернативная гипотеза:\n",
        "H1: m1 /= m2 /= m3 т.е. средний рост спортсмена зависит от выбранного им спорта."
      ],
      "metadata": {
        "id": "YuVJ1_ahQACi"
      }
    },
    {
      "cell_type": "code",
      "source": [
        "football=np.array([173, 175, 180, 178, 177, 185, 183, 182])\n",
        "hockey=np.array([177, 179, 180, 188, 177, 172, 171, 184, 180])\n",
        "weightlifting=np.array([172, 173, 169, 177, 166, 180, 178, 177, 172, 166, 170])"
      ],
      "metadata": {
        "id": "3bbvvzXZQWWE"
      },
      "execution_count": null,
      "outputs": []
    },
    {
      "cell_type": "markdown",
      "source": [
        "Воспользуемся встроенным методом однофакторного дисперсионного анализа библиотеки scipy:"
      ],
      "metadata": {
        "id": "tfFP07L8QYqW"
      }
    },
    {
      "cell_type": "code",
      "source": [
        "stats.f_oneway(football, hockey, weightlifting)"
      ],
      "metadata": {
        "id": "j5RtnGZGQZSY"
      },
      "execution_count": null,
      "outputs": []
    },
    {
      "cell_type": "markdown",
      "source": [
        "F_onewayResult(statistic=5.500053450812596, pvalue=0.010482206918698694)\n",
        "Получили значение p - value = 0.01048 =>  на уровне статистической значимости alpha = 0.05 отвергаем нулевую гипотезу. Т.е. средний рост футболистов, хоккеистов и штангистоа различен.\n",
        "При этом на уровне значимости alpha = 0.01 нулевую гипотезу отвергнуть не можем."
      ],
      "metadata": {
        "id": "k0nGO8vzQeos"
      }
    }
  ]
}