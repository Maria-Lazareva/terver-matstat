{
  "nbformat": 4,
  "nbformat_minor": 0,
  "metadata": {
    "colab": {
      "provenance": [],
      "authorship_tag": "ABX9TyN6oOicQm9LhbwXlgSearnd",
      "include_colab_link": true
    },
    "kernelspec": {
      "name": "python3",
      "display_name": "Python 3"
    },
    "language_info": {
      "name": "python"
    }
  },
  "cells": [
    {
      "cell_type": "markdown",
      "metadata": {
        "id": "view-in-github",
        "colab_type": "text"
      },
      "source": [
        "<a href=\"https://colab.research.google.com/github/Maria-Lazareva/terver-matstat/blob/HW1/hw1.ipynb\" target=\"_parent\"><img src=\"https://colab.research.google.com/assets/colab-badge.svg\" alt=\"Open In Colab\"/></a>"
      ]
    },
    {
      "cell_type": "markdown",
      "source": [
        "**Теория вероятностей и математическая статистика**\n",
        "\n",
        "Урок 1. Случайные события. Условная вероятность. Формула Байеса. Независимые испытания\n",
        "\n",
        "    1. Из колоды в 52 карты извлекаются случайным образом 4 карты. \n",
        "    a) Найти вероятность того, что все карты – крести. \n",
        "    б) Найти вероятность, что среди 4-х карт окажется хотя бы один туз.\n"
      ],
      "metadata": {
        "id": "HPIpQdFNh_GA"
      }
    },
    {
      "cell_type": "code",
      "source": [
        "from math import factorial\n",
        "def combinations(n, k):\n",
        "    return int(factorial(n) / (factorial(k) * factorial(n - k))) "
      ],
      "metadata": {
        "id": "Qxx2-4h_iKqy"
      },
      "execution_count": 1,
      "outputs": []
    },
    {
      "cell_type": "code",
      "source": [
        "m=combinations(13, 4)\n",
        "print(f'm = {m}')"
      ],
      "metadata": {
        "colab": {
          "base_uri": "https://localhost:8080/"
        },
        "id": "Dz5PZEXViQdP",
        "outputId": "09df38ed-ebc6-40da-c391-c522d7586be6"
      },
      "execution_count": 2,
      "outputs": [
        {
          "output_type": "stream",
          "name": "stdout",
          "text": [
            "m = 715\n"
          ]
        }
      ]
    },
    {
      "cell_type": "code",
      "source": [
        "n=combinations(52, 4)\n",
        "print(f'n = {n}')"
      ],
      "metadata": {
        "colab": {
          "base_uri": "https://localhost:8080/"
        },
        "id": "eaTjyWcSimBr",
        "outputId": "504f3f39-b3d7-43de-c837-05f475fc07a0"
      },
      "execution_count": 3,
      "outputs": [
        {
          "output_type": "stream",
          "name": "stdout",
          "text": [
            "n = 270725\n"
          ]
        }
      ]
    },
    {
      "cell_type": "code",
      "source": [
        "P=m/n\n",
        "print(f'Вероятность P(4 трефы) = {round(P,4)}')"
      ],
      "metadata": {
        "colab": {
          "base_uri": "https://localhost:8080/"
        },
        "id": "AXLXxuO7jZGS",
        "outputId": "329a85d4-c59d-4847-d9f5-0aecd9740400"
      },
      "execution_count": 5,
      "outputs": [
        {
          "output_type": "stream",
          "name": "stdout",
          "text": [
            "Вероятность P(4 трефы) = 0.0026\n"
          ]
        }
      ]
    },
    {
      "cell_type": "code",
      "source": [
        "P1=13/52*12/51*11/50*10/49\n",
        "print(f'P(4 трефы) = {round(P1,4)}')"
      ],
      "metadata": {
        "colab": {
          "base_uri": "https://localhost:8080/"
        },
        "id": "DMb5mNCAkT43",
        "outputId": "b9ef336b-3bac-478c-cad7-4f5227eddff5"
      },
      "execution_count": 6,
      "outputs": [
        {
          "output_type": "stream",
          "name": "stdout",
          "text": [
            "P(4 трефы) = 0.0026\n"
          ]
        }
      ]
    },
    {
      "cell_type": "markdown",
      "source": [
        "б) Общее число благоприятных исходов - это сумма четырёх возможных вариантов: когда выпал 1 туз, 2 туза, 3 туза и 4 туза. "
      ],
      "metadata": {
        "id": "6kg7cOSHkv84"
      }
    },
    {
      "cell_type": "code",
      "source": [
        "n=combinations(52, 4)\n",
        "print(f'n = {n}')"
      ],
      "metadata": {
        "colab": {
          "base_uri": "https://localhost:8080/"
        },
        "id": "4dTDAgGPlBFu",
        "outputId": "e76a8dc5-f8b5-434d-d964-a29317b8f623"
      },
      "execution_count": 7,
      "outputs": [
        {
          "output_type": "stream",
          "name": "stdout",
          "text": [
            "n = 270725\n"
          ]
        }
      ]
    },
    {
      "cell_type": "code",
      "source": [
        "m=sum([combinations(4,1)*combinations(48,3),combinations(4,2)*combinations(48,2),combinations(4,3)*combinations(48,1),1])\n",
        "print(f'm = {m}')"
      ],
      "metadata": {
        "colab": {
          "base_uri": "https://localhost:8080/"
        },
        "id": "vVpRCBIelEzt",
        "outputId": "fc7e6ba8-927a-4176-d060-92502d44e8c7"
      },
      "execution_count": 8,
      "outputs": [
        {
          "output_type": "stream",
          "name": "stdout",
          "text": [
            "m = 76145\n"
          ]
        }
      ]
    },
    {
      "cell_type": "markdown",
      "source": [
        "Вероятность Р (хотя бы 1 туз) равна:"
      ],
      "metadata": {
        "id": "2p6iOw7qlO7M"
      }
    },
    {
      "cell_type": "code",
      "source": [
        "P=m/n\n",
        "print(f'P(хотя бы 1 туз) = {round(P,4)}')"
      ],
      "metadata": {
        "colab": {
          "base_uri": "https://localhost:8080/"
        },
        "id": "19UA2DC4lJam",
        "outputId": "da325f27-9673-412d-b98f-1ca3ccd92091"
      },
      "execution_count": 9,
      "outputs": [
        {
          "output_type": "stream",
          "name": "stdout",
          "text": [
            "P(хотя бы 1 туз) = 0.2813\n"
          ]
        }
      ]
    },
    {
      "cell_type": "markdown",
      "source": [
        "или 28, 13%. Итого ответы: \n",
        "а) Р = 0,26%\n",
        "б) Р = 28,13%"
      ],
      "metadata": {
        "id": "8GI43tJnh_IH"
      }
    },
    {
      "cell_type": "markdown",
      "source": [
        "2. На входной двери подъезда установлен кодовый замок, содержащий десять кнопок с цифрами от 0 до 9. \n",
        "Код содержит три цифры, которые нужно нажать одновременно. \n",
        "Какова вероятность того, что человек, не знающий код, откроет дверь с первой попытки?"
      ],
      "metadata": {
        "id": "q0vtxGORpzrF"
      }
    },
    {
      "cell_type": "markdown",
      "source": [
        "Порядок не важен, так как кнопки нажимаются одновременно. Количество благоприятных исходов m = 1 (замок открылся). \n",
        "Общее число исходов - сочетание трёх элементов из десяти. "
      ],
      "metadata": {
        "id": "pDfUnM5DqASY"
      }
    },
    {
      "cell_type": "code",
      "source": [
        "P=1/combinations(10,3)\n",
        "print(f'P (открыть с первой попытки) = {round(P,4)}')"
      ],
      "metadata": {
        "colab": {
          "base_uri": "https://localhost:8080/"
        },
        "id": "zqWzJ1ySp5J3",
        "outputId": "ada70d25-eb2a-4159-b07d-727b8a1261d9"
      },
      "execution_count": 11,
      "outputs": [
        {
          "output_type": "stream",
          "name": "stdout",
          "text": [
            "P (открыть с первой попытки) = 0.0083\n"
          ]
        }
      ]
    },
    {
      "cell_type": "markdown",
      "source": [
        "или 0,83%."
      ],
      "metadata": {
        "id": "-WFd-ApOqo-h"
      }
    },
    {
      "cell_type": "markdown",
      "source": [
        "3. В ящике имеется 15 деталей, из которых 9 окрашены. \n",
        "Рабочий случайным образом извлекает 3 детали. \n",
        "Какова вероятность того, что все извлеченные детали окрашены?"
      ],
      "metadata": {
        "id": "wINBihZdqr5_"
      }
    },
    {
      "cell_type": "markdown",
      "source": [
        "Общее число исходов - количество сочетаний трёх деталей из 15. Количество благоприятных исходов - количество сочетаний трёх окрашенных деталей из 9. Вычислим Р (три из трёх окрашены):"
      ],
      "metadata": {
        "id": "ABUNkjdYrEMJ"
      }
    },
    {
      "cell_type": "code",
      "source": [
        "P=combinations(9,3)/combinations(15,3)\n",
        "print(f'P (3 из 3 окрашены) = {round(P,4)}')"
      ],
      "metadata": {
        "colab": {
          "base_uri": "https://localhost:8080/"
        },
        "id": "uXjmiVt0qwnd",
        "outputId": "e065fee1-9861-4193-e0bf-9fb7458c61e7"
      },
      "execution_count": 12,
      "outputs": [
        {
          "output_type": "stream",
          "name": "stdout",
          "text": [
            "P (3 из 3 окрашены) = 0.1846\n"
          ]
        }
      ]
    },
    {
      "cell_type": "markdown",
      "source": [
        "или"
      ],
      "metadata": {
        "id": "Ouey4H-ArrAX"
      }
    },
    {
      "cell_type": "code",
      "source": [
        "print(f'P (3 из 3 окрашены) = {round(9/15*8/14*7/13,4)}')"
      ],
      "metadata": {
        "colab": {
          "base_uri": "https://localhost:8080/"
        },
        "id": "a289qKCnrsAa",
        "outputId": "b5e23681-d0c7-47dd-a99a-8f233d63fd54"
      },
      "execution_count": 14,
      "outputs": [
        {
          "output_type": "stream",
          "name": "stdout",
          "text": [
            "P (3 из 3 окрашены) = 0.1846\n"
          ]
        }
      ]
    },
    {
      "cell_type": "markdown",
      "source": [
        "Р = 18,46%"
      ],
      "metadata": {
        "id": "z90imcyoryI3"
      }
    },
    {
      "cell_type": "markdown",
      "source": [
        "4. В лотерее 100 билетов. Из них 2 выигрышных. \n",
        "Какова вероятность того, что 2 приобретенных билета окажутся выигрышными?"
      ],
      "metadata": {
        "id": "df1FeeBJr4Gn"
      }
    },
    {
      "cell_type": "code",
      "source": [
        "P=1/combinations(100,2)\n",
        "print(f'P (оба выигрышных = {round(P,4)})')"
      ],
      "metadata": {
        "colab": {
          "base_uri": "https://localhost:8080/"
        },
        "id": "dYiCIEzGr-oR",
        "outputId": "abecdf40-c4a9-4307-c521-c29310881a38"
      },
      "execution_count": 15,
      "outputs": [
        {
          "output_type": "stream",
          "name": "stdout",
          "text": [
            "P (оба выигрышных = 0.0002)\n"
          ]
        }
      ]
    },
    {
      "cell_type": "markdown",
      "source": [
        "Р = 0,02%"
      ],
      "metadata": {
        "id": "LXgyGrUPr617"
      }
    }
  ]
}